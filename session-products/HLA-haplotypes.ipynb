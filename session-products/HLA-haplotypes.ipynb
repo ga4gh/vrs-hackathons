{
 "cells": [
  {
   "cell_type": "markdown",
   "metadata": {},
   "source": [
    "# Haplotypes\n",
    "\n",
    "This notebook demonstrates VRS Haplotypes for HLA-A."
   ]
  },
  {
   "cell_type": "markdown",
   "metadata": {},
   "source": [
    "# Setup"
   ]
  },
  {
   "cell_type": "code",
   "execution_count": 1,
   "metadata": {},
   "outputs": [
    {
     "name": "stderr",
     "output_type": "stream",
     "text": [
      "Removing allOf attribute from AbsoluteCopyNumber to avoid python-jsonschema-objects error.\n",
      "Removing allOf attribute from SequenceInterval to avoid python-jsonschema-objects error.\n",
      "Removing allOf attribute from RepeatedSequenceExpression to avoid python-jsonschema-objects error.\n",
      "/home/jovyan/venv/3.9/lib/python3.9/site-packages/python_jsonschema_objects/__init__.py:49: UserWarning: Schema version http://json-schema.org/draft-07/schema not recognized. Some keywords and features may not be supported.\n",
      "  warnings.warn(\n"
     ]
    }
   ],
   "source": [
    "from ga4gh.vrs import models, vrs_deref, vrs_enref\n",
    "from ga4gh.core import ga4gh_identify, ga4gh_serialize, ga4gh_digest, ga4gh_deref\n",
    "\n",
    "import json\n",
    "def ppo(o, indent=2):\n",
    "    \"\"\"pretty print object as json\"\"\"\n",
    "    print(json.dumps(o.as_dict(), sort_keys=True, indent=indent))\n",
    "    \n",
    "from ga4gh.vrs.dataproxy import SeqRepoRESTDataProxy\n",
    "from biocommons.seqrepo import SeqRepo\n",
    "    \n"
   ]
  },
  {
   "cell_type": "code",
   "execution_count": 2,
   "metadata": {},
   "outputs": [],
   "source": [
    "seqrepo_rest_service_url = \"https://services.genomicmedlab.org/seqrepo\"\n",
    "dp = SeqRepoRESTDataProxy(base_url=seqrepo_rest_service_url)"
   ]
  },
  {
   "cell_type": "code",
   "execution_count": 3,
   "metadata": {},
   "outputs": [],
   "source": [
    "sequence_id = dp.translate_sequence_identifier(\"NM_002116.7\", \"ga4gh\")[0]"
   ]
  },
  {
   "cell_type": "code",
   "execution_count": 4,
   "metadata": {},
   "outputs": [
    {
     "data": {
      "text/plain": [
       "['refseq:NM_002116.7']"
      ]
     },
     "execution_count": 4,
     "metadata": {},
     "output_type": "execute_result"
    }
   ],
   "source": [
    "dp.translate_sequence_identifier(\"ga4gh:SQ.5YTAZHEuLC_-Mee3VqsnsGt9YZ_WFaTi\", \"refseq\")"
   ]
  },
  {
   "cell_type": "code",
   "execution_count": 5,
   "metadata": {},
   "outputs": [
    {
     "data": {
      "text/plain": [
       "'ga4gh:SQ.5YTAZHEuLC_-Mee3VqsnsGt9YZ_WFaTi'"
      ]
     },
     "execution_count": 5,
     "metadata": {},
     "output_type": "execute_result"
    }
   ],
   "source": [
    "sequence_id"
   ]
  },
  {
   "cell_type": "code",
   "execution_count": 6,
   "metadata": {},
   "outputs": [],
   "source": [
    "hla_locations = {\n",
    "    \"a1_loc\": models.SequenceLocation(\n",
    "        sequence_id = sequence_id,\n",
    "        interval = models.SequenceInterval(start=models.Number(value=97, type=\"Number\"), \n",
    "                                           end=models.Number(value=98, type=\"Number\"), \n",
    "                                           type=\"SequenceInterval\"),\n",
    "        type=\"SequenceLocation\"),\n",
    "    \"a2_loc\": models.SequenceLocation(\n",
    "        sequence_id = sequence_id,\n",
    "        interval=models.SequenceInterval(start=models.Number(value=120, type=\"Number\"), \n",
    "                                         end=models.Number(value=121, type=\"Number\"),\n",
    "                                         type=\"SequenceInterval\"),\n",
    "        type=\"SequenceLocation\")\n",
    "}"
   ]
  },
  {
   "cell_type": "code",
   "execution_count": 7,
   "metadata": {},
   "outputs": [],
   "source": [
    "# Note: this was an example exercise that only used the first two\n",
    "#       Alleles of this Haplotype. For an exhaustive view, see\n",
    "#       https://www.ebi.ac.uk/cgi-bin/ipd/pl/hla/get_allele_hgvs.cgi?A*01:02:01:01\n",
    "\n",
    "hla_alleles = {\n",
    "    \"a1_allele\": models.Allele(location=hla_locations[\"a1_loc\"], state=models.SequenceState(sequence=\"C\", type=\"SequenceState\"), type=\"Allele\"),\n",
    "    \"a2_allele\": models.Allele(location=hla_locations[\"a2_loc\"], state=models.SequenceState(sequence=\"A\", type=\"SequenceState\"), type=\"Allele\"),\n",
    "}\n",
    "    "
   ]
  },
  {
   "cell_type": "code",
   "execution_count": 8,
   "metadata": {},
   "outputs": [],
   "source": [
    "hla_haplotype = {\n",
    "    \"hla_hap_1\": models.Haplotype(members=[hla_alleles[\"a1_allele\"], hla_alleles[\"a2_allele\"]]),\n",
    "}"
   ]
  },
  {
   "cell_type": "code",
   "execution_count": 9,
   "metadata": {},
   "outputs": [
    {
     "data": {
      "text/plain": [
       "<Haplotype _id=None members=<#/definitions/Haplotype/members_<anonymous_field>=[<Allele _id=None location=<SequenceLocation _id=None interval=<SequenceInterval end=<Number type=<Literal<str> Number> value=<Literal<int> 98>> start=<Number type=<Literal<str> Number> value=<Literal<int> 97>> type=<Literal<str> SequenceInterval>> sequence_id=<Literal<str> ga4gh:SQ.5YTAZHEuLC_-Mee3VqsnsGt9YZ_WFaTi> type=<Literal<str> SequenceLocation>> state=<LiteralSequenceExpression sequence=<Literal<str> C> type=<Literal<str> SequenceState>> type=<Literal<str> Allele>>, <Allele _id=None location=<SequenceLocation _id=None interval=<SequenceInterval end=<Number type=<Literal<str> Number> value=<Literal<int> 121>> start=<Number type=<Literal<str> Number> value=<Literal<int> 120>> type=<Literal<str> SequenceInterval>> sequence_id=<Literal<str> ga4gh:SQ.5YTAZHEuLC_-Mee3VqsnsGt9YZ_WFaTi> type=<Literal<str> SequenceLocation>> state=<LiteralSequenceExpression sequence=<Literal<str> A> type=<Literal<str> SequenceState>> type=<Literal<str> Allele>>]> type=<Literal<str> Haplotype>>"
      ]
     },
     "execution_count": 9,
     "metadata": {},
     "output_type": "execute_result"
    }
   ],
   "source": [
    "hla_haplotype['hla_hap_1']"
   ]
  },
  {
   "cell_type": "code",
   "execution_count": 10,
   "metadata": {},
   "outputs": [
    {
     "data": {
      "text/plain": [
       "{'type': 'Haplotype',\n",
       " 'members': [{'type': 'Allele',\n",
       "   'location': {'type': 'SequenceLocation',\n",
       "    'sequence_id': 'ga4gh:SQ.5YTAZHEuLC_-Mee3VqsnsGt9YZ_WFaTi',\n",
       "    'interval': {'type': 'SequenceInterval',\n",
       "     'start': {'type': 'Number', 'value': 97},\n",
       "     'end': {'type': 'Number', 'value': 98}}},\n",
       "   'state': {'type': 'SequenceState', 'sequence': 'C'}},\n",
       "  {'type': 'Allele',\n",
       "   'location': {'type': 'SequenceLocation',\n",
       "    'sequence_id': 'ga4gh:SQ.5YTAZHEuLC_-Mee3VqsnsGt9YZ_WFaTi',\n",
       "    'interval': {'type': 'SequenceInterval',\n",
       "     'start': {'type': 'Number', 'value': 120},\n",
       "     'end': {'type': 'Number', 'value': 121}}},\n",
       "   'state': {'type': 'SequenceState', 'sequence': 'A'}}]}"
      ]
     },
     "execution_count": 10,
     "metadata": {},
     "output_type": "execute_result"
    }
   ],
   "source": [
    "hla_haplotype['hla_hap_1'].as_dict()"
   ]
  },
  {
   "cell_type": "code",
   "execution_count": 13,
   "metadata": {},
   "outputs": [],
   "source": [
    "exon1 = models.SequenceLocation(\n",
    "        sequence_id = sequence_id,\n",
    "        interval = models.SequenceInterval(start=models.Number(value=0, type=\"Number\"), \n",
    "                                           end=models.Number(value=100, type=\"Number\"), \n",
    "                                           type=\"SequenceInterval\"))\n",
    "exon2 = models.SequenceLocation(\n",
    "        sequence_id = sequence_id,\n",
    "        interval = models.SequenceInterval(start=models.Number(value=100, type=\"Number\"), \n",
    "                                           end=models.Number(value=200, type=\"Number\"), \n",
    "                                           type=\"SequenceInterval\"))\n",
    "min_information_obj = {\n",
    "    \"variation\": hla_haplotype['hla_hap_1'].as_dict(),\n",
    "    \"profiled_regions\": [exon1.as_dict(), exon2.as_dict()],\n",
    "    \"label\": \"A*01:02:01:01\"\n",
    "}"
   ]
  },
  {
   "cell_type": "code",
   "execution_count": 14,
   "metadata": {},
   "outputs": [
    {
     "data": {
      "text/plain": [
       "{'variation': {'type': 'Haplotype',\n",
       "  'members': [{'type': 'Allele',\n",
       "    'location': {'type': 'SequenceLocation',\n",
       "     'sequence_id': 'ga4gh:SQ.5YTAZHEuLC_-Mee3VqsnsGt9YZ_WFaTi',\n",
       "     'interval': {'type': 'SequenceInterval',\n",
       "      'start': {'type': 'Number', 'value': 97},\n",
       "      'end': {'type': 'Number', 'value': 98}}},\n",
       "    'state': {'type': 'SequenceState', 'sequence': 'C'}},\n",
       "   {'type': 'Allele',\n",
       "    'location': {'type': 'SequenceLocation',\n",
       "     'sequence_id': 'ga4gh:SQ.5YTAZHEuLC_-Mee3VqsnsGt9YZ_WFaTi',\n",
       "     'interval': {'type': 'SequenceInterval',\n",
       "      'start': {'type': 'Number', 'value': 120},\n",
       "      'end': {'type': 'Number', 'value': 121}}},\n",
       "    'state': {'type': 'SequenceState', 'sequence': 'A'}}]},\n",
       " 'profiled_regions': [{'type': 'SequenceLocation',\n",
       "   'sequence_id': 'ga4gh:SQ.5YTAZHEuLC_-Mee3VqsnsGt9YZ_WFaTi',\n",
       "   'interval': {'type': 'SequenceInterval',\n",
       "    'start': {'type': 'Number', 'value': 0},\n",
       "    'end': {'type': 'Number', 'value': 100}}},\n",
       "  {'type': 'SequenceLocation',\n",
       "   'sequence_id': 'ga4gh:SQ.5YTAZHEuLC_-Mee3VqsnsGt9YZ_WFaTi',\n",
       "   'interval': {'type': 'SequenceInterval',\n",
       "    'start': {'type': 'Number', 'value': 100},\n",
       "    'end': {'type': 'Number', 'value': 200}}}],\n",
       " 'label': 'A*01:02:01:01'}"
      ]
     },
     "execution_count": 14,
     "metadata": {},
     "output_type": "execute_result"
    }
   ],
   "source": [
    "min_information_obj"
   ]
  },
  {
   "cell_type": "code",
   "execution_count": 34,
   "metadata": {},
   "outputs": [],
   "source": [
    "from copy import deepcopy\n",
    "haplo2 = deepcopy(hla_haplotype['hla_hap_1'])\n",
    "haplo1 = hla_haplotype['hla_hap_1']"
   ]
  },
  {
   "cell_type": "code",
   "execution_count": 40,
   "metadata": {},
   "outputs": [
    {
     "data": {
      "text/plain": [
       "{'type': 'Haplotype',\n",
       " 'members': [{'type': 'Allele',\n",
       "   'location': {'type': 'SequenceLocation',\n",
       "    'sequence_id': 'ga4gh:SQ.5YTAZHEuLC_-Mee3VqsnsGt9YZ_WFaTi',\n",
       "    'interval': {'type': 'SequenceInterval',\n",
       "     'start': {'type': 'Number', 'value': 97},\n",
       "     'end': {'type': 'Number', 'value': 98}}},\n",
       "   'state': {'type': 'SequenceState', 'sequence': 'C'}},\n",
       "  {'type': 'Allele',\n",
       "   'location': {'type': 'SequenceLocation',\n",
       "    'sequence_id': 'ga4gh:SQ.5YTAZHEuLC_-Mee3VqsnsGt9YZ_WFaTi',\n",
       "    'interval': {'type': 'SequenceInterval',\n",
       "     'start': {'type': 'Number', 'value': 120},\n",
       "     'end': {'type': 'Number', 'value': 121}}},\n",
       "   'state': {'type': 'SequenceState', 'sequence': 'A'}}]}"
      ]
     },
     "execution_count": 40,
     "metadata": {},
     "output_type": "execute_result"
    }
   ],
   "source": [
    "haplo2.as_dict()"
   ]
  },
  {
   "cell_type": "code",
   "execution_count": 41,
   "metadata": {},
   "outputs": [],
   "source": [
    "haplo2 = models.Haplotype(members=[hla_alleles[\"a1_allele\"]])\n"
   ]
  },
  {
   "cell_type": "code",
   "execution_count": 42,
   "metadata": {},
   "outputs": [
    {
     "data": {
      "text/plain": [
       "{'type': 'Haplotype',\n",
       " 'members': [{'type': 'Allele',\n",
       "   'location': {'type': 'SequenceLocation',\n",
       "    'sequence_id': 'ga4gh:SQ.5YTAZHEuLC_-Mee3VqsnsGt9YZ_WFaTi',\n",
       "    'interval': {'type': 'SequenceInterval',\n",
       "     'start': {'type': 'Number', 'value': 97},\n",
       "     'end': {'type': 'Number', 'value': 98}}},\n",
       "   'state': {'type': 'SequenceState', 'sequence': 'C'}}]}"
      ]
     },
     "execution_count": 42,
     "metadata": {},
     "output_type": "execute_result"
    }
   ],
   "source": [
    "haplo2.as_dict()"
   ]
  },
  {
   "cell_type": "code",
   "execution_count": 43,
   "metadata": {},
   "outputs": [],
   "source": [
    "set2 = set([ga4gh_identify(x) for x in haplo2.members])\n",
    "set1 = set([ga4gh_identify(x) for x in haplo1.members])"
   ]
  },
  {
   "cell_type": "code",
   "execution_count": 44,
   "metadata": {},
   "outputs": [
    {
     "data": {
      "text/plain": [
       "{'ga4gh:VA.FO7GQBJ7w2CIh5PWV6or955HH0CvYOfC',\n",
       " 'ga4gh:VA.bvtGNh3LVB_wwjRiZ3Fj-1HHaDxUYzvZ'}"
      ]
     },
     "execution_count": 44,
     "metadata": {},
     "output_type": "execute_result"
    }
   ],
   "source": [
    "set1"
   ]
  },
  {
   "cell_type": "code",
   "execution_count": 45,
   "metadata": {},
   "outputs": [
    {
     "data": {
      "text/plain": [
       "{'ga4gh:VA.bvtGNh3LVB_wwjRiZ3Fj-1HHaDxUYzvZ'}"
      ]
     },
     "execution_count": 45,
     "metadata": {},
     "output_type": "execute_result"
    }
   ],
   "source": [
    "set2"
   ]
  },
  {
   "cell_type": "code",
   "execution_count": 46,
   "metadata": {},
   "outputs": [
    {
     "data": {
      "text/plain": [
       "True"
      ]
     },
     "execution_count": 46,
     "metadata": {},
     "output_type": "execute_result"
    }
   ],
   "source": [
    "set2 < set1"
   ]
  },
  {
   "cell_type": "code",
   "execution_count": 49,
   "metadata": {},
   "outputs": [
    {
     "data": {
      "text/plain": [
       "{'ga4gh:VA.bvtGNh3LVB_wwjRiZ3Fj-1HHaDxUYzvZ'}"
      ]
     },
     "execution_count": 49,
     "metadata": {},
     "output_type": "execute_result"
    }
   ],
   "source": [
    "set1 & set2"
   ]
  },
  {
   "cell_type": "code",
   "execution_count": 48,
   "metadata": {},
   "outputs": [
    {
     "data": {
      "text/plain": [
       "[True, False]"
      ]
     },
     "execution_count": 48,
     "metadata": {},
     "output_type": "execute_result"
    }
   ],
   "source": [
    "['ga4gh:VA.FO7GQBJ7w2CIh5PWV6or955HH0CvYOfC' in x for x in (set1, set2)]"
   ]
  },
  {
   "cell_type": "code",
   "execution_count": null,
   "metadata": {},
   "outputs": [],
   "source": []
  }
 ],
 "metadata": {
  "kernelspec": {
   "display_name": "VRS_kernel",
   "language": "python",
   "name": "3.9"
  },
  "language_info": {
   "codemirror_mode": {
    "name": "ipython",
    "version": 3
   },
   "file_extension": ".py",
   "mimetype": "text/x-python",
   "name": "python",
   "nbconvert_exporter": "python",
   "pygments_lexer": "ipython3",
   "version": "3.9.12"
  }
 },
 "nbformat": 4,
 "nbformat_minor": 4
}
